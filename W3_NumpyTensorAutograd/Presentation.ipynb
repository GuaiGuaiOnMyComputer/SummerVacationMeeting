{
 "cells": [
  {
   "cell_type": "markdown",
   "metadata": {},
   "source": [
    "# Gradient Descent Using Different Python Libraries"
   ]
  },
  {
   "cell_type": "markdown",
   "metadata": {},
   "source": [
    "A Taylor series expansion of a function $f$ is defined as:\n",
    "\n",
    "\\begin{equation}\n",
    "\n",
    "f(x) = \\sum^N_{k=0}{\\frac {f^{(k)}(x-a)}{n!}(x-a)^k}\n",
    "\n",
    "\\end{equation}\n",
    "\n",
    "And the Taylor series expansion of sine function at $a=0$ is:\n",
    "\n",
    "\\begin{equation}\n",
    "\n",
    "sin(x) = \\sum^{N}_{k=0}{\\frac{(-1)^{k}}{(2k+1)!} x^{2k+1}} = \\frac{x^1}{1!} - \\frac{x^3}{3!} + \\frac{x^5}{5!} - \\frac{x^7}{7!}.....\n",
    "\n",
    "\\end{equation}"
   ]
  },
  {
   "cell_type": "markdown",
   "metadata": {},
   "source": [
    "Suppose we somehow are not able to calculate the Taylor coefficients, which are the $\\frac {(-1)^k}{(2k+1)!}$ terms, replacing the coefficients in the equation with unknown weights $w_{k}$, we can still calcualte them using the gradient descent method."
   ]
  },
  {
   "cell_type": "markdown",
   "metadata": {},
   "source": [
    "\\begin{equation}\n",
    "\\hat{y} = \\sum^{N}_{k=0}{w_{k}x^{2k+1}} = w_0 x^1 + w_1 x^3 + w_2 x^5 + w_3 x^7...\n",
    "\\end{equation}"
   ]
  },
  {
   "cell_type": "markdown",
   "metadata": {},
   "source": [
    "<center><image src=\"img/TaylorSeriesNeuralNetwork.png\"></center>"
   ]
  },
  {
   "cell_type": "markdown",
   "metadata": {},
   "source": [
    "Use $L_2$ loss as the loss function, defined as:\n",
    "\n",
    "\n",
    "\\begin{align}\n",
    "\\text{Loss function } L = \\sqrt{(\\hat{y} - y)^2}\n",
    "\\end{align}"
   ]
  },
  {
   "cell_type": "markdown",
   "metadata": {},
   "source": [
    "The gradient of a weight $w_i$ can be determined by the following formula:\n",
    "\n",
    "\\begin{align}\n",
    "\\frac{\\partial L}{\\partial w_i} &= \\frac {1}{2} [(\\hat{y} - y)^2]^{\\frac {-1}{2}}  2(\\hat{y}-y) \\frac{\\partial \\hat{y}}{\\partial w_i} = \\frac{\\partial \\hat{y}}{\\partial w_i} \\\\\n",
    "\\frac{\\partial L}{\\partial w_0} &= x \\\\\n",
    "\\frac{\\partial L}{\\partial w_1} &= x^3 \\\\\n",
    "\\frac{\\partial L}{\\partial w_2} &= x^5 \\\\\n",
    "\\frac{\\partial L}{\\partial w_3} &= x^7 \\\\\n",
    "\\end{align}"
   ]
  },
  {
   "cell_type": "code",
   "execution_count": null,
   "metadata": {},
   "outputs": [],
   "source": [
    "# Code adapted from https://pytorch.org/tutorials/beginner/pytorch_with_examples.html# \n",
    "\n",
    "import numpy as np\n",
    "\n",
    "N_SAMPLES = 4000\n",
    "LEARNING_RATE = 1e-6\n",
    "\n",
    "# Create random input and output data\n",
    "x = np.linspace(-np.pi, np.pi, N_SAMPLES)\n",
    "y = np.sin(x)\n",
    "\n",
    "# Randomly initialize weights\n",
    "w = np.random.random(8)\n",
    "\n",
    "for t in range(8000):\n",
    "\n",
    "    y_pred = w[0] + w[1]*x + w[2]*(x**2) + w[3]*(x**3) + w[4]*(x**4) + w[5]*(x**5) + w[6]*(x**6) + w[7]*(x**7)\n",
    "\n",
    "    error = y_pred - y\n",
    "    loss = (error ** 2).mean()\n",
    "    gradients = np.array((\n",
    "        2 * error,\n",
    "        2 * error * x,\n",
    "        2 * error * (x**2),\n",
    "        2 * error * (x**3),\n",
    "        2 * error * (x**4),\n",
    "        2 * error * (x**5),\n",
    "        2 * error * (x**6),\n",
    "        2 * error * (x**7)\n",
    "    )).mean(-1)\n",
    "    w -= gradients * LEARNING_RATE\n",
    "    \n",
    "    if t % 200 == 199:\n",
    "        print(f\"Loss at {t+1:> 5} iteration: {loss:> 5.3f}\")"
   ]
  },
  {
   "cell_type": "code",
   "execution_count": null,
   "metadata": {},
   "outputs": [],
   "source": [
    "import torch\n",
    "\n",
    "dtype = torch.float\n",
    "device = torch.device(\"cuda\")\n",
    "\n",
    "N_SAMPLES = 4000\n",
    "LEARNING_RATE = 1e-6\n",
    "\n",
    "x = torch.linspace(-torch.pi, torch.pi, N_SAMPLES, device=device, dtype=dtype)\n",
    "y = torch.sin(x)\n",
    "w = torch.randn(8, device = device, dtype = dtype)\n",
    "\n",
    "for t in range(8000):\n",
    "    y_pred = w[0] + w[1]*x + w[2]*x**2 + w[3]*x**3 + w[4]*x**4 + w[5]*x**5 + w[6]*x**6 + w[7]*x**7\n",
    "\n",
    "    error = y_pred - y\n",
    "    loss = error.pow(2).mean().item()\n",
    "\n",
    "    gradients = torch.empty_like(w, device = device)\n",
    "    gradients[0] = (2 * error).mean(-1)\n",
    "    gradients[1] = (2 * error * x).mean(-1)\n",
    "    gradients[2] = (2 * error * (x**2)).mean(-1)\n",
    "    gradients[3] = (2 * error * (x**3)).mean(-1)\n",
    "    gradients[4] = (2 * error * (x**4)).mean(-1)\n",
    "    gradients[5] = (2 * error * (x**5)).mean(-1)\n",
    "    gradients[6] = (2 * error * (x**6)).mean(-1)\n",
    "    gradients[7] = (2 * error * (x**7)).mean(-1)\n",
    "\n",
    "    \"\"\" \n",
    "    ValueError: only tensor with size 1 can be converted to python scalar\n",
    "    gradients = torch.tensor((\n",
    "        2 * error,\n",
    "        2 * error * x,\n",
    "        2 * error * (x**2),\n",
    "        2 * error * (x**3),\n",
    "        2 * error * (x**4),\n",
    "        2 * error * (x**5),\n",
    "        2 * error * (x**6),\n",
    "        2 * error * (x**7)), device = device).mean(-1)\n",
    "    gradients = torch.from_numpy(__gradients, device = device)\n",
    "    \"\"\"\n",
    "\n",
    "    w -= gradients * LEARNING_RATE\n",
    "    \n",
    "    if t % 200 == 199:\n",
    "        print(f\"Loss at {t+1:> 5} iteration: {loss:> 5.3f}\")\n"
   ]
  },
  {
   "cell_type": "code",
   "execution_count": null,
   "metadata": {},
   "outputs": [],
   "source": [
    "# -*- coding: utf-8 -*-\n",
    "import torch\n",
    "\n",
    "dtype = torch.float\n",
    "device = \"cuda\"\n",
    "torch.set_default_device(device)\n",
    "\n",
    "N_SAMPLES = 4000\n",
    "LEARNING_RATE = 1e-6\n",
    "\n",
    "x = torch.linspace(-torch.pi, torch.pi, N_SAMPLES, dtype=dtype)\n",
    "y = torch.sin(x)\n",
    "w = torch.randn(8, device = device, dtype = dtype, requires_grad = True)\n",
    "\n",
    "for t in range(8000):\n",
    "    y_pred = w[0] + w[1]*x + w[2]*x**2 + w[3]*x** 3 + w[4]*x**4 + w[5]*x**5 + w[6]*x**6 + w[7]*x**7\n",
    "\n",
    "    error = y_pred - y\n",
    "    loss = error.pow(2).mean()\n",
    "\n",
    "    loss.backward()\n",
    "\n",
    "    # Manually update weights using gradient descent. Wrap in torch.no_grad()\n",
    "    # because weights have requires_grad=True, but we don't need to track this\n",
    "    # in autograd.\n",
    "    with torch.no_grad():\n",
    "        w -= w.grad * LEARNING_RATE\n",
    "\n",
    "        # Manually zero the gradients after updating weights\n",
    "        w.grad[:] = 0\n",
    "        \n",
    "    if t % 200 == 199:\n",
    "        print(f\"Loss at {t+1:> 5} iteration: {loss:> 5.3f}\")\n"
   ]
  },
  {
   "cell_type": "code",
   "execution_count": null,
   "metadata": {},
   "outputs": [],
   "source": []
  }
 ],
 "metadata": {
  "kernelspec": {
   "display_name": "PyTorchEnv",
   "language": "python",
   "name": "python3"
  },
  "language_info": {
   "codemirror_mode": {
    "name": "ipython",
    "version": 3
   },
   "file_extension": ".py",
   "mimetype": "text/x-python",
   "name": "python",
   "nbconvert_exporter": "python",
   "pygments_lexer": "ipython3",
   "version": "3.11.4"
  },
  "orig_nbformat": 4
 },
 "nbformat": 4,
 "nbformat_minor": 2
}
