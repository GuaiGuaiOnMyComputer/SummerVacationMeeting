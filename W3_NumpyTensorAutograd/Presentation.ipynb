{
 "cells": [
  {
   "cell_type": "markdown",
   "metadata": {},
   "source": [
    "# Gradient Descent Using Different Python Libraries"
   ]
  },
  {
   "cell_type": "markdown",
   "metadata": {},
   "source": [
    "A Taylor series expansion of a function $f$ is defined as:\n",
    "\n",
    "\\begin{equation}\n",
    "\n",
    "f(x) = \\sum^N_{k=0}{\\frac {f^{(k)}(x-a)}{n!}(x-a)^k}\n",
    "\n",
    "\\end{equation}\n",
    "\n",
    "And the Taylor series expansion of sine function at $a=0$ is:\n",
    "\n",
    "\\begin{equation}\n",
    "\n",
    "sin(x) = \\sum^{N}_{k=0}{\\frac{(-1)^{k}}{(2k+1)!} x^{2k+1}} = \\frac{x^1}{1!} - \\frac{x^3}{3!} + \\frac{x^5}{5!} - \\frac{x^7}{7!}.....\n",
    "\n",
    "\\end{equation}"
   ]
  },
  {
   "cell_type": "markdown",
   "metadata": {},
   "source": [
    "Suppose we somehow are not able to calculate the Taylor coefficients, which are the $\\frac {(-1)^k}{(2k+1)!}$ terms, replacing the coefficients in the equation with unknown weights $w_{k}$, we can still calcualte them using the gradient descent method."
   ]
  },
  {
   "cell_type": "markdown",
   "metadata": {},
   "source": [
    "\\begin{equation}\n",
    "sin(x) = \\sum^{N}_{k=0}{w_{k}x^{2k+1}} = w_0 x^1 + w_1 x^3 + w_2 x^5 + w_3 x^7...\n",
    "\\end{equation}"
   ]
  },
  {
   "cell_type": "markdown",
   "metadata": {},
   "source": [
    "<center><image src=\"img/TaylorSeriesNeuralNetwork.png\"></center>"
   ]
  },
  {
   "cell_type": "markdown",
   "metadata": {},
   "source": [
    "### 1. Gradient Descent with Numpy"
   ]
  },
  {
   "cell_type": "markdown",
   "metadata": {},
   "source": [
    "The following code snippet using the numpy library attempts to find the unknown weights $w_k$ by gradient descent."
   ]
  },
  {
   "cell_type": "code",
   "execution_count": 48,
   "metadata": {},
   "outputs": [],
   "source": [
    "import numpy as np\n",
    "from collections import  deque\n",
    "\n",
    "SAMPLE_COUNT = 6000\n",
    "x = np.linspace(0, np.pi, SAMPLE_COUNT)\n",
    "y = np.sin(x)\n",
    "\n",
    "w = np.random.rand(5)\n",
    "\n",
    "EPOCHES = 3\n",
    "BATCH_SIZE = 10\n",
    "ITERATIONS = int(SAMPLE_COUNT / BATCH_SIZE)\n",
    "\n",
    "for epoch in range(EPOCHES):\n",
    "    for iteration in range(ITERATIONS):\n",
    "        batch = x[iteration*BATCH_SIZE : (iteration+1)*BATCH_SIZE]\n",
    "\n",
    "        y_predicted = deque(map(\n",
    "            lambda sample : (w[0] + w[1]*sample + w[2]*(sample**3) + w[3]*(sample**5) + w[4]*(sample**7)).sum(),\n",
    "            batch\n",
    "        ))\n",
    "\n",
    "        loss_fn = lambda  y_hat, y_truth: np.sqrt(\n",
    "            np.square(y_hat - y_truth)\n",
    "            ).sum()\n",
    "        \n",
    "        loss = loss_fn(y_predicted, y[iteration*BATCH_SIZE : (iteration+1)*BATCH_SIZE])\n",
    "        # TODO: use paper and pen to calculate the gradients of the weight, justifying the tutorial demo code."
   ]
  },
  {
   "cell_type": "code",
   "execution_count": null,
   "metadata": {},
   "outputs": [],
   "source": []
  },
  {
   "cell_type": "code",
   "execution_count": null,
   "metadata": {},
   "outputs": [],
   "source": []
  }
 ],
 "metadata": {
  "kernelspec": {
   "display_name": "PyTorchEnv",
   "language": "python",
   "name": "python3"
  },
  "language_info": {
   "codemirror_mode": {
    "name": "ipython",
    "version": 3
   },
   "file_extension": ".py",
   "mimetype": "text/x-python",
   "name": "python",
   "nbconvert_exporter": "python",
   "pygments_lexer": "ipython3",
   "version": "3.11.4"
  },
  "orig_nbformat": 4
 },
 "nbformat": 4,
 "nbformat_minor": 2
}
