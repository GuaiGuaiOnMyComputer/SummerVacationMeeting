{
 "cells": [
  {
   "cell_type": "markdown",
   "metadata": {},
   "source": [
    "# Gradient Descent Using Different Python Libraries"
   ]
  },
  {
   "cell_type": "markdown",
   "metadata": {},
   "source": [
    "A Taylor series expansion of a function $f$ is defined as:\n",
    "\n",
    "\\begin{equation}\n",
    "\n",
    "f(x) = \\sum^N_{k=0}{\\frac {f^{(k)}(x-a)}{n!}(x-a)^k}\n",
    "\n",
    "\\end{equation}\n",
    "\n",
    "And the Taylor series expansion of sine function at $a=0$ is:\n",
    "\n",
    "\\begin{equation}\n",
    "\n",
    "sin(x) = \\sum^{N}_{k=0}{\\frac{(-1)^{k}}{(2k+1)!} x^{2k+1}} = \\frac{x^1}{1!} - \\frac{x^3}{3!} + \\frac{x^5}{5!} - \\frac{x^7}{7!}.....\n",
    "\n",
    "\\end{equation}"
   ]
  },
  {
   "cell_type": "markdown",
   "metadata": {},
   "source": [
    "Suppose we somehow are not able to calculate the Taylor coefficients, which are the $\\frac {(-1)^k}{(2k+1)!}$ terms, replacing the coefficients in the equation with unknown weights $w_{k}$, we can still calcualte them using the gradient descent method."
   ]
  },
  {
   "cell_type": "markdown",
   "metadata": {},
   "source": [
    "\\begin{equation}\n",
    "\\hat{y} = \\sum^{N}_{k=0}{w_{k}x^{2k+1}} = w_0 x^1 + w_1 x^3 + w_2 x^5 + w_3 x^7...\n",
    "\\end{equation}"
   ]
  },
  {
   "cell_type": "markdown",
   "metadata": {},
   "source": [
    "<center><image src=\"img/TaylorSeriesNeuralNetwork.png\"></center>"
   ]
  },
  {
   "cell_type": "markdown",
   "metadata": {},
   "source": [
    "Use $L_2$ loss as the loss function, defined as:\n",
    "\n",
    "\n",
    "\\begin{align}\n",
    "\\text{Loss function } L = \\sqrt{(\\hat{y} - y)^2}\n",
    "\\end{align}"
   ]
  },
  {
   "cell_type": "markdown",
   "metadata": {},
   "source": [
    "The gradient of a weight $w_i$ can be determined by the following formula:\n",
    "\n",
    "\\begin{align}\n",
    "\\frac{\\partial L}{\\partial w_i} &= \\frac {1}{2} [(\\hat{y} - y)^2]^{\\frac {-1}{2}}  2(\\hat{y}-y) \\frac{\\partial \\hat{y}}{\\partial w_i} = \\frac{\\partial \\hat{y}}{\\partial w_i} \\\\\n",
    "\\frac{\\partial L}{\\partial w_0} &= x \\\\\n",
    "\\frac{\\partial L}{\\partial w_1} &= x^3 \\\\\n",
    "\\frac{\\partial L}{\\partial w_2} &= x^5 \\\\\n",
    "\\frac{\\partial L}{\\partial w_3} &= x^7 \\\\\n",
    "\\end{align}"
   ]
  },
  {
   "cell_type": "code",
   "execution_count": 12,
   "metadata": {},
   "outputs": [
    {
     "name": "stdout",
     "output_type": "stream",
     "text": [
      "Loss at   200 iteration:  143.220\n",
      "Loss at   400 iteration:  125.487\n",
      "Loss at   600 iteration:  110.431\n",
      "Loss at   800 iteration:  97.630\n",
      "Loss at  1000 iteration:  86.728\n",
      "Loss at  1200 iteration:  77.426\n",
      "Loss at  1400 iteration:  69.474\n",
      "Loss at  1600 iteration:  62.658\n",
      "Loss at  1800 iteration:  56.803\n",
      "Loss at  2000 iteration:  51.758\n",
      "Loss at  2200 iteration:  47.398\n",
      "Loss at  2400 iteration:  43.617\n",
      "Loss at  2600 iteration:  40.326\n",
      "Loss at  2800 iteration:  37.451\n",
      "Loss at  3000 iteration:  34.927\n",
      "Loss at  3200 iteration:  32.703\n",
      "Loss at  3400 iteration:  30.734\n",
      "Loss at  3600 iteration:  28.981\n",
      "Loss at  3800 iteration:  27.414\n",
      "Loss at  4000 iteration:  26.005\n",
      "Loss at  4200 iteration:  24.732\n",
      "Loss at  4400 iteration:  23.576\n",
      "Loss at  4600 iteration:  22.521\n",
      "Loss at  4800 iteration:  21.553\n",
      "Loss at  5000 iteration:  20.661\n",
      "Loss at  5200 iteration:  19.835\n",
      "Loss at  5400 iteration:  19.067\n",
      "Loss at  5600 iteration:  18.349\n",
      "Loss at  5800 iteration:  17.677\n",
      "Loss at  6000 iteration:  17.044\n",
      "Loss at  6200 iteration:  16.447\n",
      "Loss at  6400 iteration:  15.881\n",
      "Loss at  6600 iteration:  15.344\n",
      "Loss at  6800 iteration:  14.833\n",
      "Loss at  7000 iteration:  14.346\n",
      "Loss at  7200 iteration:  13.880\n",
      "Loss at  7400 iteration:  13.434\n",
      "Loss at  7600 iteration:  13.007\n",
      "Loss at  7800 iteration:  12.596\n",
      "Loss at  8000 iteration:  12.201\n"
     ]
    }
   ],
   "source": [
    "# Code adapted from https://pytorch.org/tutorials/beginner/pytorch_with_examples.html# \n",
    "\n",
    "import numpy as np\n",
    "\n",
    "N_SAMPLES = 4000\n",
    "LEARNING_RATE = 1e-6\n",
    "\n",
    "# Create random input and output data\n",
    "x = np.linspace(-np.pi, np.pi, N_SAMPLES)\n",
    "y = np.sin(x)\n",
    "\n",
    "# Randomly initialize weights\n",
    "w = np.random.random(8)\n",
    "\n",
    "for t in range(8000):\n",
    "\n",
    "    y_pred = w[0] + w[1]*x + w[2]*(x**2) + w[3]*(x**3) + w[4]*(x**4) + w[5]*(x**5) + w[6]*(x**6) + w[7]*(x**7)\n",
    "\n",
    "    error = y_pred - y\n",
    "    loss = (error ** 2).mean()\n",
    "    gradients = np.array((\n",
    "        2 * error,\n",
    "        2 * error * x,\n",
    "        2 * error * (x**2),\n",
    "        2 * error * (x**3),\n",
    "        2 * error * (x**4),\n",
    "        2 * error * (x**5),\n",
    "        2 * error * (x**6),\n",
    "        2 * error * (x**7)\n",
    "    )).mean(-1)\n",
    "    w -= gradients * LEARNING_RATE\n",
    "    \n",
    "    if t % 200 == 199:\n",
    "        print(f\"Loss at {t+1:> 5} iteration: {loss:> 5.3f}\")"
   ]
  },
  {
   "cell_type": "code",
   "execution_count": 13,
   "metadata": {},
   "outputs": [],
   "source": [
    "import torch\n",
    "\n",
    "dtype = torch.float\n",
    "device = torch.device(\"cuda\")\n",
    "\n",
    "N_SAMPLES = 4000\n",
    "LEARNING_RATE = 1e-6\n",
    "\n",
    "x = torch.linspace(-torch.pi, torch.pi, N_SAMPLES, device=device, dtype=dtype)\n",
    "y = torch.sin(x)\n",
    "w = torch.randn(8, device = device, dtype = dtype)\n",
    "\n",
    "for t in range(8000):\n",
    "    # Forward pass: compute predicted y\n",
    "    y_pred = w[0] + w[1]*x + w[2]*x**2 + w[3]*x**3 + w[4]*x**4 + w[5]*x**5 + w[6]*x**6 + w[7]*x**7\n",
    "\n",
    "    # Compute and print loss\n",
    "    error = y_pred - y\n",
    "    loss = error.pow(2).mean().item()\n",
    "\n",
    "    # Backprop to compute gradients of a, b, c, d with respect to loss\n",
    "    gradients = torch.empty_like(w, device = device)\n",
    "    gradients[0] = (2 * error).mean(-1)\n",
    "    gradients[1] = (2 * error * x).mean(-1)\n",
    "    gradients[2] = (2 * error * (x**2)).mean(-1)\n",
    "    gradients[3] = (2 * error * (x**3)).mean(-1)\n",
    "    gradients[4] = (2 * error * (x**4)).mean(-1)\n",
    "    gradients[5] = (2 * error * (x**5)).mean(-1)\n",
    "    gradients[6] = (2 * error * (x**6)).mean(-1)\n",
    "    gradients[7] = (2 * error * (x**7)).mean(-1)\n",
    "\n",
    "    \"\"\" \n",
    "    ValueError: only tensor with size 1 can be converted to python scalar\n",
    "    gradients = torch.tensor((\n",
    "        2 * error,\n",
    "        2 * error * x,\n",
    "        2 * error * (x**2),\n",
    "        2 * error * (x**3),\n",
    "        2 * error * (x**4),\n",
    "        2 * error * (x**5),\n",
    "        2 * error * (x**6),\n",
    "        2 * error * (x**7)), device = device).mean(-1)\n",
    "    gradients = torch.from_numpy(__gradients, device = device)\n",
    "     \"\"\"\n",
    "\n",
    "    w -= gradients * LEARNING_RATE\n",
    "    \n",
    "    # if t % 200 == 199:\n",
    "    #     print(f\"Loss at {t+1:> 5} iteration: {loss:> 5.3f}\")\n"
   ]
  },
  {
   "cell_type": "markdown",
   "metadata": {},
   "source": []
  }
 ],
 "metadata": {
  "kernelspec": {
   "display_name": "PyTorchEnv",
   "language": "python",
   "name": "python3"
  },
  "language_info": {
   "codemirror_mode": {
    "name": "ipython",
    "version": 3
   },
   "file_extension": ".py",
   "mimetype": "text/x-python",
   "name": "python",
   "nbconvert_exporter": "python",
   "pygments_lexer": "ipython3",
   "version": "3.11.4"
  },
  "orig_nbformat": 4
 },
 "nbformat": 4,
 "nbformat_minor": 2
}
